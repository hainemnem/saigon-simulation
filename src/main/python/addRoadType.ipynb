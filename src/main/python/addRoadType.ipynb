{
 "cells": [
  {
   "cell_type": "code",
   "execution_count": null,
   "metadata": {},
   "outputs": [],
   "source": [
    "import xml.etree.ElementTree as ET\n",
    "\n",
    "def add_attribute_to_links(xml_file, output_file):\n",
    "    tree = ET.parse(xml_file)\n",
    "    root = tree.getroot()\n",
    "\n",
    "    for link in root.findall('.//link'):\n",
    "        attributes = link.find('attributes')\n",
    "        if attributes is None:\n",
    "            attributes = ET.SubElement(link, 'attributes')\n",
    "\n",
    "        new_attribute = ET.SubElement(attributes, 'attribute')\n",
    "        new_attribute.set('name', 'hbefa_road_type')\n",
    "        new_attribute.set('class', 'java.lang.String')\n",
    "        new_attribute.text = 'URB/Local/50'\n",
    "\n",
    "    tree.write(output_file, encoding='utf-8', xml_declaration=True)\n",
    "\n",
    "# Path to the input XML file and the output file\n",
    "xml_file = 'saigon.xml'\n",
    "output_file = 'modified_test.xml'\n",
    "\n",
    "add_attribute_to_links(xml_file, output_file)"
   ]
  }
 ],
 "metadata": {
  "language_info": {
   "name": "python"
  }
 },
 "nbformat": 4,
 "nbformat_minor": 2
}
