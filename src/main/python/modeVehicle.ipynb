{
 "cells": [
  {
   "cell_type": "code",
   "execution_count": null,
   "metadata": {},
   "outputs": [],
   "source": [
    "import xml.etree.ElementTree as ET\n",
    "from xml.dom import minidom\n",
    "\n",
    "# Load the input XML file\n",
    "input_file_path = 'output_events_building.xml'\n",
    "output_file_path = 'vehi_build.xml'\n",
    "\n",
    "tree = ET.parse(input_file_path)\n",
    "root = tree.getroot()\n",
    "\n",
    "# Create a new XML tree for the output\n",
    "vehicles_root = ET.Element(\"vehicles\")\n",
    "\n",
    "# Use a set to track unique person IDs\n",
    "unique_person_ids = set()\n",
    "\n",
    "# Extract person IDs and add to the new XML tree\n",
    "for event in root.findall('event'):\n",
    "    person_id = event.get('person')\n",
    "    if person_id and person_id not in unique_person_ids:  # Ensure person_id is unique\n",
    "        vehicle_element = ET.Element(\"vehicle\")\n",
    "        vehicle_element.set(\"id\", person_id)\n",
    "        vehicle_element.set(\"type\", \"car_average\")\n",
    "        vehicles_root.append(vehicle_element)\n",
    "        unique_person_ids.add(person_id)\n",
    "\n",
    "# Create a new tree\n",
    "vehicles_tree = ET.ElementTree(vehicles_root)\n",
    "\n",
    "# Pretty print the XML\n",
    "xml_str = ET.tostring(vehicles_root, encoding='utf-8')\n",
    "parsed_str = minidom.parseString(xml_str)\n",
    "pretty_str = parsed_str.toprettyxml(indent=\"  \")\n",
    "\n",
    "# Write the pretty XML to the file\n",
    "with open(output_file_path, 'w', encoding='utf-8') as f:\n",
    "    f.write(pretty_str)\n",
    "\n",
    "output_file_path"
   ]
  }
 ],
 "metadata": {
  "language_info": {
   "name": "python"
  }
 },
 "nbformat": 4,
 "nbformat_minor": 2
}
